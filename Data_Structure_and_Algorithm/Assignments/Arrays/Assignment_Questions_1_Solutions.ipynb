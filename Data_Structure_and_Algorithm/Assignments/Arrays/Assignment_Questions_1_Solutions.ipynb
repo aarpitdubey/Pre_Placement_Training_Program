{
  "nbformat": 4,
  "nbformat_minor": 0,
  "metadata": {
    "colab": {
      "provenance": [],
      "authorship_tag": "ABX9TyPYRTk4CefqjAtAKSwr2aHM",
      "include_colab_link": true
    },
    "kernelspec": {
      "name": "python3",
      "display_name": "Python 3"
    },
    "language_info": {
      "name": "python"
    }
  },
  "cells": [
    {
      "cell_type": "markdown",
      "metadata": {
        "id": "view-in-github",
        "colab_type": "text"
      },
      "source": [
        "<a href=\"https://colab.research.google.com/github/aarpitdubey/Pre_Placement_Training_Program/blob/main/Data_Structure_and_Algorithm/Assignments/Arrays/Assignment_Questions_1_Solutions.ipynb\" target=\"_parent\"><img src=\"https://colab.research.google.com/assets/colab-badge.svg\" alt=\"Open In Colab\"/></a>"
      ]
    },
    {
      "cell_type": "markdown",
      "source": [
        "**Q1.** Given an array of integers nums and an integer target, return indices of the two numbers such that they add up to target.\n",
        "\n",
        "You may assume that each input would have exactly one solution, and you may not use the same element twice.\n",
        "\n",
        "You can return the answer in any order.\n",
        "\n",
        "**Example:**\n",
        "Input: nums = [2,7,11,15], target = 9\n",
        "Output0 [0,1]\n",
        "\n",
        "**Explanation:** Because nums[0] + nums[1] == 9, we return [0, 1]["
      ],
      "metadata": {
        "id": "fFATc4MFBeix"
      }
    },
    {
      "cell_type": "code",
      "source": [
        "def twoSum(nums, target):\n",
        "  # Create an empty dictionary\n",
        "    num_dict = {}\n",
        "\n",
        "    # Iterate through the array\n",
        "    for i, num in enumerate(nums):\n",
        "        # Check if the difference is present in the dictionary\n",
        "        if target - num in num_dict:\n",
        "            # Return the indices of the two numbers\n",
        "            return [num_dict[target - num], i]\n",
        "\n",
        "        # Add the current element to the dictionary\n",
        "        num_dict[num] = i\n",
        "\n",
        "    # If no solution is found, return an empty list\n",
        "    return []\n",
        "\n",
        "#input: [2, 7, 11, 15]\n",
        "nums = input(\"Enter the numbers, separated by spaces: \").split()\n",
        "nums = [int(num) for num in nums]\n",
        "target = int(input(\"Enter the target sum: \"))\n",
        "\n",
        "result = twoSum(nums, target)\n",
        "print(result) # Output: [0, 1]"
      ],
      "metadata": {
        "colab": {
          "base_uri": "https://localhost:8080/"
        },
        "id": "z2C1z43gBlRP",
        "outputId": "d3082f6c-03f6-498f-e83f-3013397769c2"
      },
      "execution_count": 1,
      "outputs": [
        {
          "output_type": "stream",
          "name": "stdout",
          "text": [
            "Enter the numbers, separated by spaces: 2 7 11 15\n",
            "Enter the target sum: 9\n",
            "[0, 1]\n"
          ]
        }
      ]
    },
    {
      "cell_type": "markdown",
      "source": [
        "**Q2.** Given an integer array nums and an integer val, remove all occurrences of val in nums in-place. The order of the elements may be changed. Then return the number of elements in nums which are not equal to val.\n",
        "\n",
        "Consider the number of elements in nums which are not equal to val be k, to get accepted, you need to do the following things:\n",
        "\n",
        "- Change the array nums such that the first k elements of nums contain the elements which are not equal to val. The remaining elements of nums are not important as well as the size of nums.\n",
        "- Return k.\n",
        "\n",
        "**Example :**\n",
        "Input: nums = [3,2,2,3], val = 3\n",
        "Output: 2, nums = [2,2,_*,_*]\n",
        "\n",
        "**Explanation:** Your function should return k = 2, with the first two elements of nums being 2. It does not matter what you leave beyond the returned k (hence they are underscores)["
      ],
      "metadata": {
        "id": "gy25UiGYDfFY"
      }
    },
    {
      "cell_type": "code",
      "source": [
        "def removeElement(nums, val):\n",
        "    i = 0\n",
        "    for j in range(len(nums)):\n",
        "        if nums[j] != val:\n",
        "            nums[i] = nums[j]\n",
        "            i += 1\n",
        "    return i\n",
        "\n",
        "\n",
        "# input\n",
        "nums = input(\"Enter the numbers, separated by spaces: \").split()\n",
        "nums = [int(num) for num in nums]\n",
        "val = int(input(\"Enter the value to be removed: \"))\n",
        "\n",
        "k = removeElement(nums, val)\n",
        "output = nums[:k] + [\"_*\"] * (len(nums) - k)\n",
        "print(\"Output:\", k, \", nums =\", output)"
      ],
      "metadata": {
        "colab": {
          "base_uri": "https://localhost:8080/"
        },
        "id": "255XxUkGCcEa",
        "outputId": "b04f4c55-fd8a-407c-b014-5e9d3da919f4"
      },
      "execution_count": 2,
      "outputs": [
        {
          "output_type": "stream",
          "name": "stdout",
          "text": [
            "Enter the numbers, separated by spaces: 3 2 2 3\n",
            "Enter the value to be removed: 3\n",
            "Output: 2 , nums = [2, 2, '_*', '_*']\n"
          ]
        }
      ]
    },
    {
      "cell_type": "markdown",
      "source": [
        "**Q3.** Given a sorted array of distinct integers and a target value, return the index if the target is found. If not, return the index where it would be if it were inserted in order.\n",
        "\n",
        "You must write an algorithm with O(log n) runtime complexity.\n",
        "\n",
        "**Example 1:**\n",
        "Input: nums = [1,3,5,6], target = 5\n",
        "\n",
        "Output: 2"
      ],
      "metadata": {
        "id": "glMRhmVGDj8P"
      }
    },
    {
      "cell_type": "code",
      "source": [
        "def searchInsert(nums, target):\n",
        "    left = 0\n",
        "    right = len(nums) - 1\n",
        "\n",
        "    while left <= right:\n",
        "        mid = (left + right) // 2\n",
        "\n",
        "        if nums[mid] == target:\n",
        "            return mid\n",
        "        elif nums[mid] < target:\n",
        "            left = mid + 1\n",
        "        else:\n",
        "            right = mid - 1\n",
        "\n",
        "    return left\n",
        "\n",
        "\n",
        "# input\n",
        "nums = input(\"Enter the sorted numbers, separated by spaces: \").split()\n",
        "nums = [int(num) for num in nums]\n",
        "target = int(input(\"Enter the target value: \"))\n",
        "\n",
        "index = searchInsert(nums, target)\n",
        "print(\"Output:\", index)\n"
      ],
      "metadata": {
        "colab": {
          "base_uri": "https://localhost:8080/"
        },
        "id": "h6fhFXVNDQaT",
        "outputId": "8f70da52-2d12-4df8-c0b6-432c523d48db"
      },
      "execution_count": 3,
      "outputs": [
        {
          "output_type": "stream",
          "name": "stdout",
          "text": [
            "Enter the sorted numbers, separated by spaces: 1 3 5 6\n",
            "Enter the target value: 5\n",
            "Output: 2\n"
          ]
        }
      ]
    },
    {
      "cell_type": "markdown",
      "source": [
        "**Q4.** You are given a large integer represented as an integer array digits, where each digits[i] is the ith digit of the integer. The digits are ordered from most significant to least significant in left-to-right order. The large integer does not contain any leading 0's.\n",
        "\n",
        "Increment the large integer by one and return the resulting array of digits.\n",
        "\n",
        "**Example 1:**\n",
        "Input: digits = [1,2,3]\n",
        "Output: [1,2,4]\n",
        "\n",
        "**Explanation:** The array represents the integer 123.\n",
        "\n",
        "Incrementing by one gives 123 + 1 = 124.\n",
        "Thus, the result should be [1,2,4]."
      ],
      "metadata": {
        "id": "R7e2O8ISEbZw"
      }
    },
    {
      "cell_type": "code",
      "source": [
        "def plusOne(digits):\n",
        "    carry = 1\n",
        "    for i in range(len(digits) - 1, -1, -1):\n",
        "        digits[i] += carry\n",
        "        carry = digits[i] // 10\n",
        "        digits[i] %= 10\n",
        "        if carry == 0:\n",
        "            break\n",
        "\n",
        "    if carry != 0:\n",
        "        digits.insert(0, carry)\n",
        "\n",
        "    return digits\n",
        "\n",
        "# input\n",
        "digits = input(\"Enter the digits, separated by spaces: \").split()\n",
        "digits = [int(digit) for digit in digits]\n",
        "\n",
        "result = plusOne(digits)\n",
        "print(\"Output:\", result)\n"
      ],
      "metadata": {
        "colab": {
          "base_uri": "https://localhost:8080/"
        },
        "id": "vG_w5re6D62w",
        "outputId": "2330a524-415d-4094-f370-4f4a08c6bce6"
      },
      "execution_count": 4,
      "outputs": [
        {
          "output_type": "stream",
          "name": "stdout",
          "text": [
            "Enter the digits, separated by spaces: 1 2 3\n",
            "Output: [1, 2, 4]\n"
          ]
        }
      ]
    },
    {
      "cell_type": "markdown",
      "source": [
        "**Q5.** You are given two integer arrays nums1 and nums2, sorted in non-decreasing order, and two integers m and n, representing the number of elements in nums1 and nums2 respectively.\n",
        "\n",
        "Merge nums1 and nums2 into a single array sorted in non-decreasing order.\n",
        "\n",
        "The final sorted array should not be returned by the function, but instead be stored inside the array nums1. To accommodate this, nums1 has a length of m + n, where the first m elements denote the elements that should be merged, and the last n elements are set to 0 and should be ignored. nums2 has a length of n.\n",
        "\n",
        "**Example 1:**\n",
        "Input: nums1 = [1,2,3,0,0,0], m = 3, nums2 = [2,5,6], n = 3\n",
        "Output: [1,2,2,3,5,6]\n",
        "\n",
        "**Explanation:** The arrays we are merging are [1,2,3] and [2,5,6].\n",
        "The result of the merge is [1,2,2,3,5,6] with the underlined elements coming from nums1."
      ],
      "metadata": {
        "id": "4RhoOtjNEgpo"
      }
    },
    {
      "cell_type": "code",
      "source": [
        "def merge(nums1, m, nums2, n):\n",
        "    p1 = m - 1\n",
        "    p2 = n - 1\n",
        "    p = m + n - 1\n",
        "\n",
        "    while p1 >= 0 and p2 >= 0:\n",
        "        if nums1[p1] > nums2[p2]:\n",
        "            nums1[p] = nums1[p1]\n",
        "            p1 -= 1\n",
        "        else:\n",
        "            nums1[p] = nums2[p2]\n",
        "            p2 -= 1\n",
        "\n",
        "        p -= 1\n",
        "\n",
        "    if p2 >= 0:\n",
        "        nums1[:p2 + 1] = nums2[:p2 + 1]\n",
        "\n",
        "    return nums1\n",
        "\n",
        "# input\n",
        "nums1 = input(\"Enter the elements of nums1, separated by spaces: \").split()\n",
        "nums1 = [int(num) for num in nums1]\n",
        "m = int(input(\"Enter the value of m: \"))\n",
        "\n",
        "nums2 = input(\"Enter the elements of nums2, separated by spaces: \").split()\n",
        "nums2 = [int(num) for num in nums2]\n",
        "n = int(input(\"Enter the value of n: \"))\n",
        "\n",
        "result = merge(nums1, m, nums2, n)\n",
        "print(\"Output:\", result)\n"
      ],
      "metadata": {
        "colab": {
          "base_uri": "https://localhost:8080/"
        },
        "id": "8J8OblUZEWD4",
        "outputId": "27b1cf84-037d-47e7-afbd-ee69aeafc843"
      },
      "execution_count": 5,
      "outputs": [
        {
          "output_type": "stream",
          "name": "stdout",
          "text": [
            "Enter the elements of nums1, separated by spaces: 1 2 3 0 0 0\n",
            "Enter the value of m: 3\n",
            "Enter the elements of nums2, separated by spaces: 2 5 6\n",
            "Enter the value of n: 3\n",
            "Output: [1, 2, 2, 3, 5, 6]\n"
          ]
        }
      ]
    },
    {
      "cell_type": "markdown",
      "source": [
        "**Q6.** Given an integer array nums, return true if any value appears at least twice in the array, and return false if every element is distinct.\n",
        "\n",
        "**Example 1:**\n",
        "Input: nums = [1,2,3,1]\n",
        "\n",
        "Output: true"
      ],
      "metadata": {
        "id": "xTIlLfKYFVyo"
      }
    },
    {
      "cell_type": "code",
      "source": [
        "def containsDuplicate(nums):\n",
        "    seen = set()\n",
        "\n",
        "    for num in nums:\n",
        "        if num in seen:\n",
        "            return True\n",
        "        seen.add(num)\n",
        "\n",
        "    return False\n",
        "\n",
        "\n",
        "# input\n",
        "nums = input(\"Enter the numbers, separated by spaces: \").split()\n",
        "nums = [int(num) for num in nums]\n",
        "\n",
        "result = containsDuplicate(nums)\n",
        "print(\"Output:\", result)\n"
      ],
      "metadata": {
        "colab": {
          "base_uri": "https://localhost:8080/"
        },
        "id": "k9Xz_ZnRE1vQ",
        "outputId": "af9b3722-52c6-4715-d42a-36ef2b441358"
      },
      "execution_count": 6,
      "outputs": [
        {
          "output_type": "stream",
          "name": "stdout",
          "text": [
            "Enter the numbers, separated by spaces: 1 2 3 1\n",
            "Output: True\n"
          ]
        }
      ]
    },
    {
      "cell_type": "markdown",
      "source": [
        "**Q7.** Given an integer array nums, move all 0's to the end of it while maintaining the relative order of the nonzero elements.\n",
        "\n",
        "Note that you must do this in-place without making a copy of the array.\n",
        "\n",
        "**Example 1:**\n",
        "Input: nums = [0,1,0,3,12]\n",
        "Output: [1,3,12,0,0]\n"
      ],
      "metadata": {
        "id": "NpzPIZBiFvMo"
      }
    },
    {
      "cell_type": "code",
      "source": [
        "def moveZeroes(nums):\n",
        "    left = 0\n",
        "    right = 0\n",
        "\n",
        "    while right < len(nums):\n",
        "        if nums[right] != 0:\n",
        "            nums[left], nums[right] = nums[right], nums[left]\n",
        "            left += 1\n",
        "        right += 1\n",
        "\n",
        "    nums[left:] = [0] * (len(nums) - left)\n",
        "\n",
        "    return nums\n",
        "\n",
        "# input\n",
        "nums = input(\"Enter the numbers, separated by spaces: \").split()\n",
        "nums = [int(num) for num in nums]\n",
        "\n",
        "result = moveZeroes(nums)\n",
        "print(\"Output:\", result)"
      ],
      "metadata": {
        "colab": {
          "base_uri": "https://localhost:8080/"
        },
        "id": "WTD1H82jFujv",
        "outputId": "434068bf-9d58-4c15-b536-50829a8edc80"
      },
      "execution_count": 7,
      "outputs": [
        {
          "output_type": "stream",
          "name": "stdout",
          "text": [
            "Enter the numbers, separated by spaces: 0 1 0 3 12\n",
            "Output: [1, 3, 12, 0, 0]\n"
          ]
        }
      ]
    },
    {
      "cell_type": "markdown",
      "source": [
        "**Q8.** You have a set of integers s, which originally contains all the numbers from 1 to n. Unfortunately, due to some error, one of the numbers in s got duplicated to another number in the set, which results in repetition of one number and loss of another number.\n",
        "\n",
        "You are given an integer array nums representing the data status of this set after the error.\n",
        "\n",
        "Find the number that occurs twice and the number that is missing and return them in the form of an array.\n",
        "\n",
        "**Example 1:**\n",
        "Input: nums = [1,2,2,4]\n",
        "Output: [2,3]\n"
      ],
      "metadata": {
        "id": "yVcfGiLRGICA"
      }
    },
    {
      "cell_type": "code",
      "source": [
        "def findErrorNums(nums):\n",
        "    seen = set()\n",
        "    duplicate = 0\n",
        "    total_sum = 0\n",
        "\n",
        "    for num in nums:\n",
        "        if num in seen:\n",
        "            duplicate = num\n",
        "        seen.add(num)\n",
        "        total_sum += num\n",
        "\n",
        "    expected_sum = sum(range(1, len(nums) + 1))\n",
        "    missing = expected_sum - (total_sum - duplicate)\n",
        "\n",
        "    return [duplicate, missing]\n",
        "\n",
        "\n",
        "# input\n",
        "nums = input(\"Enter the numbers, separated by spaces: \").split()\n",
        "nums = [int(num) for num in nums]\n",
        "\n",
        "result = findErrorNums(nums)\n",
        "print(\"Output:\", result)\n"
      ],
      "metadata": {
        "colab": {
          "base_uri": "https://localhost:8080/"
        },
        "id": "suQDI4NJGHxw",
        "outputId": "2d81f20d-2833-4ca0-a9b9-8d6a0bddd370"
      },
      "execution_count": 8,
      "outputs": [
        {
          "output_type": "stream",
          "name": "stdout",
          "text": [
            "Enter the numbers, separated by spaces: 1 2 2 4\n",
            "Output: [2, 3]\n"
          ]
        }
      ]
    }
  ]
}